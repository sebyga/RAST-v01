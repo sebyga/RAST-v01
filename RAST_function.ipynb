{
 "cells": [
  {
   "cell_type": "markdown",
   "source": [
    "# Import"
   ],
   "metadata": {}
  },
  {
   "cell_type": "code",
   "execution_count": 1,
   "source": [
    "import numpy as np\r\n",
    "from scipy.integrate import trapz\r\n",
    "from scipy.optimize import minimize"
   ],
   "outputs": [],
   "metadata": {}
  },
  {
   "cell_type": "markdown",
   "source": [
    "# Subfunctions for RAST"
   ],
   "metadata": {}
  },
  {
   "cell_type": "code",
   "execution_count": 2,
   "source": [
    "def ln_gamma_i(x,Lamb, C, piA_RT):\r\n",
    "    N = len(x)\r\n",
    "    ln_gamma = np.zeros(N)   # array N\r\n",
    "    sum_xlam = []   # array N\r\n",
    "    sum_xlam_ov_xlam = []\r\n",
    "    exp_term = []\r\n",
    "    for ii in range(N):\r\n",
    "        xlam_tmp = 0\r\n",
    "        for jj in range(N):\r\n",
    "            xlam_tmp = xlam_tmp + x[jj]*Lamb[ii,jj]\r\n",
    "        sum_xlam.append(xlam_tmp)\r\n",
    "        sum_xlam_xlam = 0\r\n",
    "        for kk in range(N):\r\n",
    "            sum_xlam_tmp = 0\r\n",
    "            for ll in range(N):\r\n",
    "                sum_xlam_tmp = sum_xlam_tmp + Lamb[kk,ll]*x[ll]\r\n",
    "            sum_xlam_xlam = sum_xlam_xlam + Lamb[kk,ii]*x[kk]/sum_xlam_tmp\r\n",
    "        sum_xlam_ov_xlam.append(sum_xlam_xlam)\r\n",
    "        exp_term_tmp = 1-np.exp(C*piA_RT)\r\n",
    "        exp_term.append(exp_term_tmp)\r\n",
    "        all_term_tmp = (1-np.log(xlam_tmp)-sum_xlam_xlam)*exp_term_tmp\r\n",
    "        ln_gamma[ii] = all_term_tmp\r\n",
    "    return ln_gamma\r\n",
    "# Test the ln_gamma_i\r\n",
    "Lambda_test = np.array([[1,0.5],[0.5,1]])\r\n",
    "log_gam = ln_gamma_i([0.5,0.5],Lambda_test, 1, 1)\r\n",
    "print(log_gam)\r\n",
    "print(np.exp(log_gam))"
   ],
   "outputs": [
    {
     "output_type": "stream",
     "name": "stdout",
     "text": [
      "[-0.49431888 -0.49431888]\n",
      "[0.60998624 0.60998624]\n"
     ]
    }
   ],
   "metadata": {}
  },
  {
   "cell_type": "markdown",
   "source": [
    "# RAST Function"
   ],
   "metadata": {}
  },
  {
   "cell_type": "code",
   "execution_count": 3,
   "source": [
    "\r\n",
    "def rast(isotherm_list,P_i,T, Lamb, C):\r\n",
    "    if len(Lamb.shape) != 2:\r\n",
    "        print('Lambda should be N x N array or matrix!')\r\n",
    "        return\r\n",
    "    elif Lamb.shape[0] != Lamb.shape[1]:\r\n",
    "        print('Lambda should be N x N array or matrix!')\r\n",
    "        return\r\n",
    "    else:\r\n",
    "        N = Lamb.shape[0]\r\n",
    "    \r\n",
    "    def spreading_pressure(iso, P_max):\r\n",
    "        P_ran = np.linspace(0.0001,P_max)\r\n",
    "        q_ov_P = iso(P_ran)/P_ran\r\n",
    "        spr_P = trapz(q_ov_P, P_ran)\r\n",
    "        return spr_P\r\n",
    "    iso_list = []\r\n",
    "    iso_spr = []\r\n",
    "    for isoo in isotherm_list:\r\n",
    "        iso_tmp = lambda pp: isoo(pp, T)\r\n",
    "        iso_spr_tmp = lambda ppp: spreading_pressure(iso_tmp, ppp)\r\n",
    "        iso_list.append(iso_tmp)\r\n",
    "        iso_spr.append(iso_spr_tmp)\r\n",
    "\r\n",
    "    def spreading_P_err(x_N_piART):\r\n",
    "        xx_first = x_N_piART[:N-1]\r\n",
    "        xx_last = [1-np.sum(xx_first)]\r\n",
    "        xx = np.concatenate([xx_first, xx_last])\r\n",
    "        rms_err = 0\r\n",
    "        for ii in range(N):\r\n",
    "            if xx[ii] <0.0001:\r\n",
    "                rms_err = rms_err+50*xx[ii]**2\r\n",
    "                xx[ii] = 0.0001\r\n",
    "            elif xx[ii] > 0.999:\r\n",
    "                rms_err = rms_err+50*(xx[ii]-1)**2\r\n",
    "                xx[ii] = 0.9999\r\n",
    "        \r\n",
    "        spr_P = x_N_piART[-1]\r\n",
    "        ln_gam = ln_gamma_i(xx,Lamb, C, spr_P,)\r\n",
    "        gamm = np.exp(ln_gam)\r\n",
    "        Po_i = P_i/gamm/xx\r\n",
    "        spr_P_new = np.zeros(N)\r\n",
    "        for ii in range(N):\r\n",
    "            spr_P_tmp = iso_spr[ii](Po_i[ii])\r\n",
    "            spr_P_new[ii] = spr_P_tmp\r\n",
    "        rms_err = np.sum((spr_P_new - spr_P)**2)\r\n",
    "        return rms_err\r\n",
    "    \r\n",
    "    y_i = P_i/np.sum(P_i)\r\n",
    "    x_init = P_i/np.sum(P_i)\r\n",
    "    x_init = x_init[:-1]\r\n",
    "    piA_RT_list = []\r\n",
    "    for xx,iso,pp in zip(x_init,isotherm_list,P_i):\r\n",
    "        P_ran = np.linspace(0.0001,pp)\r\n",
    "        q_P = iso(P_ran, T)/P_ran\r\n",
    "        piA_RT_tmp = trapz(q_P,P_ran)\r\n",
    "        piA_RT_list.append(piA_RT_tmp)\r\n",
    "    opt_x_list = []\r\n",
    "    opt_fn_list = []\r\n",
    "    for spr_P0 in piA_RT_list:\r\n",
    "        x0 = np.concatenate([x_init, [spr_P0]])\r\n",
    "        optres_tmp = minimize(spreading_P_err, x0, method = 'Nelder-mead')\r\n",
    "        opt_x_list.append(optres_tmp.x)\r\n",
    "        opt_fn_list.append(optres_tmp.fun)\r\n",
    "        optres_tmp = minimize(spreading_P_err, x0, method = 'COBYLA')\r\n",
    "        opt_x_list.append(optres_tmp.x)\r\n",
    "        opt_fn_list.append(optres_tmp.fun)\r\n",
    "    x_re = np.zeros(N)\r\n",
    "    x_re[:-1] = optres_tmp.x[:-1]\r\n",
    "    x_re[-1] = 1- np.sum(x_re[:-1])\r\n",
    "    piA_RT_re = optres_tmp.x[-1]\r\n",
    "    ln_gam_re = ln_gamma_i(x_re,Lamb, C, piA_RT_re)\r\n",
    "    gamma_re = np.exp(ln_gam_re)\r\n",
    "    #print(iso_spr[0](P_i[0]/optres_tmp.x[0]/gamma_re[0]))\r\n",
    "    #print(iso_spr[1](P_i[1]/(1- optres_tmp.x[0])/gamma_re[1]))\r\n",
    "    P_pure = np.array(P_i)/x_re/gamma_re\r\n",
    "    q_pure = np.zeros(N)\r\n",
    "    for ii in range(N):\r\n",
    "        q_pure[ii] = iso_list[ii](P_pure[ii])\r\n",
    "    q_tot = 1/(np.sum(x_re/q_pure))\r\n",
    "    q_return = q_tot*x_re\r\n",
    "    return q_return\r\n"
   ],
   "outputs": [],
   "metadata": {}
  },
  {
   "cell_type": "markdown",
   "source": [
    "# Testing the RAST Function"
   ],
   "metadata": {}
  },
  {
   "cell_type": "code",
   "execution_count": 4,
   "source": [
    "R_gas = 8.3145\r\n",
    "Arrh =  lambda dH,T,Tref: np.exp(abs(dH/R_gas)*(1/T - 1/Tref))\r\n",
    "def Lang(P,T,par,dH,Tref):\r\n",
    "    bP = par[1]*P*Arrh(dH,T,Tref)\r\n",
    "    numer = par[0]*bP\r\n",
    "    denom = 1 + bP\r\n",
    "    return numer/denom\r\n",
    "lang1 = lambda P,T: Lang(P,T,[3, 0.1],10, 300)\r\n",
    "lang2 = lambda P,T: Lang(P,T,[1, 0.5],20, 300)\r\n",
    "P_partial = np.array([2,0.1])\r\n",
    "Lambda_test = np.array([[1,0.8],[0.8,1]])\r\n",
    "C_test = 1\r\n",
    "rast_test_res = rast([lang1,lang2],P_partial,300,Lambda_test,C_test)\r\n",
    "print(rast_test_res)\r\n",
    "#print(rast_test_res[0])\r\n",
    "#print(rast_test_res[1])"
   ],
   "outputs": [
    {
     "output_type": "stream",
     "name": "stdout",
     "text": [
      "[0.48284516 0.03557831]\n"
     ]
    }
   ],
   "metadata": {}
  },
  {
   "cell_type": "code",
   "execution_count": null,
   "source": [],
   "outputs": [],
   "metadata": {}
  }
 ],
 "metadata": {
  "kernelspec": {
   "display_name": "Python 3",
   "language": "python",
   "name": "python3"
  },
  "language_info": {
   "codemirror_mode": {
    "name": "ipython",
    "version": 3
   },
   "file_extension": ".py",
   "mimetype": "text/x-python",
   "name": "python",
   "nbconvert_exporter": "python",
   "pygments_lexer": "ipython3",
   "version": "3.8.3"
  },
  "toc": {
   "base_numbering": 1,
   "nav_menu": {},
   "number_sections": true,
   "sideBar": true,
   "skip_h1_title": false,
   "title_cell": "Table of Contents",
   "title_sidebar": "Contents",
   "toc_cell": false,
   "toc_position": {},
   "toc_section_display": true,
   "toc_window_display": false
  },
  "varInspector": {
   "cols": {
    "lenName": 16,
    "lenType": 16,
    "lenVar": 40
   },
   "kernels_config": {
    "python": {
     "delete_cmd_postfix": "",
     "delete_cmd_prefix": "del ",
     "library": "var_list.py",
     "varRefreshCmd": "print(var_dic_list())"
    },
    "r": {
     "delete_cmd_postfix": ") ",
     "delete_cmd_prefix": "rm(",
     "library": "var_list.r",
     "varRefreshCmd": "cat(var_dic_list()) "
    }
   },
   "types_to_exclude": [
    "module",
    "function",
    "builtin_function_or_method",
    "instance",
    "_Feature"
   ],
   "window_display": false
  }
 },
 "nbformat": 4,
 "nbformat_minor": 4
}