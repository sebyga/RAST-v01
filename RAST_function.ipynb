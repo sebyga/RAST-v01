{
 "cells": [
  {
   "cell_type": "markdown",
   "metadata": {},
   "source": [
    "# Import"
   ]
  },
  {
   "cell_type": "code",
   "execution_count": 73,
   "metadata": {},
   "outputs": [],
   "source": [
    "import numpy as np\n",
    "from scipy.integrate import trapz\n",
    "from scipy.optimize import minimize"
   ]
  },
  {
   "cell_type": "markdown",
   "metadata": {},
   "source": [
    "# Subfunctions for RAST"
   ]
  },
  {
   "cell_type": "code",
   "execution_count": 7,
   "metadata": {},
   "outputs": [
    {
     "name": "stdout",
     "output_type": "stream",
     "text": [
      "[-0.49431888 -0.49431888]\n",
      "[0.60998624 0.60998624]\n"
     ]
    }
   ],
   "source": [
    "def ln_gamma_i(x,Lamb, C, piA_RT):\n",
    "    N = len(x)\n",
    "    ln_gamma = np.zeros(N)   # array N\n",
    "    sum_xlam = []   # array N\n",
    "    sum_xlam_ov_xlam = []\n",
    "    exp_term = []\n",
    "    for ii in range(N):\n",
    "        xlam_tmp = 0\n",
    "        for jj in range(N):\n",
    "            xlam_tmp = xlam_tmp + x[jj]*Lamb[ii,jj]\n",
    "        sum_xlam.append(xlam_tmp)\n",
    "        sum_xlam_xlam = 0\n",
    "        for kk in range(N):\n",
    "            sum_xlam_tmp = 0\n",
    "            for ll in range(N):\n",
    "                sum_xlam_tmp = sum_xlam_tmp + Lamb[kk,ll]*x[ll]\n",
    "            sum_xlam_xlam = sum_xlam_xlam + Lamb[kk,ii]*x[kk]/sum_xlam_tmp\n",
    "        sum_xlam_ov_xlam.append(sum_xlam_xlam)\n",
    "        exp_term_tmp = 1-np.exp(C*piA_RT)\n",
    "        exp_term.append(exp_term_tmp)\n",
    "        all_term_tmp = (1-np.log(xlam_tmp)-sum_xlam_xlam)*exp_term_tmp\n",
    "        ln_gamma[ii] = all_term_tmp\n",
    "    return ln_gamma\n",
    "# Test the ln_gamma_i\n",
    "Lambda_test = np.array([[1,0.5],[0.5,1]])\n",
    "log_gam = ln_gamma_i([0.5,0.5],Lambda_test, 1, 1)\n",
    "print(log_gam)\n",
    "print(np.exp(log_gam))"
   ]
  },
  {
   "cell_type": "markdown",
   "metadata": {},
   "source": [
    "# RAST Function"
   ]
  },
  {
   "cell_type": "code",
   "execution_count": 71,
   "metadata": {},
   "outputs": [],
   "source": [
    "\n",
    "def rast(isotherm_list,P_i,T, Lamb, C):\n",
    "    if len(Lamb.shape) != 2:\n",
    "        print('Lambda should be N x N array or matrix!')\n",
    "        return\n",
    "    elif Lamb.shape[0] != Lamb.shape[1]:\n",
    "        print('Lambda should be N x N array or matrix!')\n",
    "        return\n",
    "    else:\n",
    "        N = Lamb.shape[0]\n",
    "    \n",
    "    def spreading_pressure(iso, P_max):\n",
    "        P_ran = np.linspace(0.0001,P_max)\n",
    "        q_ov_P = iso(P_ran)/P_ran\n",
    "        spr_P = trapz(q_ov_P, P_ran)\n",
    "        return spr_P\n",
    "    iso_list = []\n",
    "    iso_spr = []\n",
    "    for isoo in isotherm_list:\n",
    "        iso_tmp = lambda pp: isoo(pp, T)\n",
    "        iso_spr_tmp = lambda ppp: spreading_pressure(iso_tmp, ppp)\n",
    "        iso_list.append(iso_tmp)\n",
    "        iso_spr.append(iso_spr_tmp)\n",
    "\n",
    "    def spreading_P_err(x_N_piART):\n",
    "        xx_first = x_N_piART[:N-1]\n",
    "        xx_last = [1-np.sum(xx_first)]\n",
    "        xx = np.concatenate([xx_first, xx_last])\n",
    "        rms_err = 0\n",
    "        for ii in range(N):\n",
    "            if xx[ii] <0.0001:\n",
    "                rms_err = rms_err+50*xx[ii]**2\n",
    "                xx[ii] = 0.0001\n",
    "            elif xx[ii] > 0.999:\n",
    "                rms_err = rms_err+50*(xx[ii]-1)**2\n",
    "                xx[ii] = 0.9999\n",
    "        \n",
    "        spr_P = x_N_piART[-1]\n",
    "        ln_gam = ln_gamma_i(xx,Lamb, C, spr_P,)\n",
    "        gamm = np.exp(ln_gam)\n",
    "        Po_i = P_i/gamm/xx\n",
    "        spr_P_new = np.zeros(N)\n",
    "        for ii in range(N):\n",
    "            spr_P_tmp = iso_spr[ii](Po_i[ii])\n",
    "            spr_P_new[ii] = spr_P_tmp\n",
    "        rms_err = np.sum((spr_P_new - spr_P)**2)\n",
    "        return rms_err\n",
    "    \n",
    "    y_i = P_i/np.sum(P_i)\n",
    "    x_init = P_i/np.sum(P_i)\n",
    "    x_init = x_init[:-1]\n",
    "    piA_RT_list = []\n",
    "    for xx,iso,pp in zip(x_init,isotherm_list,P_i):\n",
    "        P_ran = np.linspace(0.0001,pp)\n",
    "        q_P = iso(P_ran, T)/P_ran\n",
    "        piA_RT_tmp = trapz(q_P,P_ran)\n",
    "        piA_RT_list.append(piA_RT_tmp)\n",
    "    opt_x_list = []\n",
    "    opt_fn_list = []\n",
    "    for spr_P0 in piA_RT_list:\n",
    "        x0 = np.concatenate([x_init, [spr_P0]])\n",
    "        optres_tmp = minimize(spreading_P_err, x0, method = 'Nelder-mead')\n",
    "        opt_x_list.append(optres_tmp.x)\n",
    "        opt_fn_list.append(optres_tmp.fun)\n",
    "        optres_tmp = minimize(spreading_P_err, x0, method = 'COBYLA')\n",
    "        opt_x_list.append(optres_tmp.x)\n",
    "        opt_fn_list.append(optres_tmp.fun)\n",
    "    x_re = np.zeros(N)\n",
    "    x_re[:-1] = optres_tmp.x[:-1]\n",
    "    x_re[-1] = 1- np.sum(x_re[:-1])\n",
    "    piA_RT_re = optres_tmp.x[-1]\n",
    "    ln_gam_re = ln_gamma_i(x_re,Lamb, C, piA_RT_re)\n",
    "    gamma_re = np.exp(ln_gam_re)\n",
    "    #print(iso_spr[0](P_i[0]/optres_tmp.x[0]/gamma_re[0]))\n",
    "    #print(iso_spr[1](P_i[1]/(1- optres_tmp.x[0])/gamma_re[1]))\n",
    "    P_pure = np.array(P_i)/x_re/gamma_re\n",
    "    q_pure = np.zeros(N)\n",
    "    for ii in range(N):\n",
    "        q_pure[ii] = iso_list[ii](P_pure[ii])\n",
    "    q_tot = 1/(np.sum(x_re/q_pure))\n",
    "    q_return = q_tot*x_re\n",
    "    return q_return\n"
   ]
  },
  {
   "cell_type": "markdown",
   "metadata": {},
   "source": [
    "# Testing the RAST Function"
   ]
  },
  {
   "cell_type": "code",
   "execution_count": 72,
   "metadata": {},
   "outputs": [
    {
     "name": "stdout",
     "output_type": "stream",
     "text": [
      "[0.48284516 0.03557831]\n"
     ]
    }
   ],
   "source": [
    "R_gas = 8.3145\n",
    "Arrh =  lambda dH,T,Tref: np.exp(abs(dH/R_gas)*(1/T - 1/Tref))\n",
    "def Lang(P,T,par,dH,Tref):\n",
    "    bP = par[1]*P*Arrh(dH,T,Tref)\n",
    "    numer = par[0]*bP\n",
    "    denom = 1 + bP\n",
    "    return numer/denom\n",
    "lang1 = lambda P,T: Lang(P,T,[3, 0.1],10, 300)\n",
    "lang2 = lambda P,T: Lang(P,T,[1, 0.5],20, 300)\n",
    "P_partial = np.array([2,0.1])\n",
    "Lambda_test = np.array([[1,0.8],[0.8,1]])\n",
    "C_test = 1\n",
    "rast_test_res = rast([lang1,lang2],P_partial,300,Lambda_test,C_test)\n",
    "print(rast_test_res)\n",
    "#print(rast_test_res[0])\n",
    "#print(rast_test_res[1])"
   ]
  }
 ],
 "metadata": {
  "kernelspec": {
   "display_name": "Python 3",
   "language": "python",
   "name": "python3"
  },
  "language_info": {
   "codemirror_mode": {
    "name": "ipython",
    "version": 3
   },
   "file_extension": ".py",
   "mimetype": "text/x-python",
   "name": "python",
   "nbconvert_exporter": "python",
   "pygments_lexer": "ipython3",
   "version": "3.8.3"
  },
  "toc": {
   "base_numbering": 1,
   "nav_menu": {},
   "number_sections": true,
   "sideBar": true,
   "skip_h1_title": false,
   "title_cell": "Table of Contents",
   "title_sidebar": "Contents",
   "toc_cell": false,
   "toc_position": {},
   "toc_section_display": true,
   "toc_window_display": false
  },
  "varInspector": {
   "cols": {
    "lenName": 16,
    "lenType": 16,
    "lenVar": 40
   },
   "kernels_config": {
    "python": {
     "delete_cmd_postfix": "",
     "delete_cmd_prefix": "del ",
     "library": "var_list.py",
     "varRefreshCmd": "print(var_dic_list())"
    },
    "r": {
     "delete_cmd_postfix": ") ",
     "delete_cmd_prefix": "rm(",
     "library": "var_list.r",
     "varRefreshCmd": "cat(var_dic_list()) "
    }
   },
   "types_to_exclude": [
    "module",
    "function",
    "builtin_function_or_method",
    "instance",
    "_Feature"
   ],
   "window_display": false
  }
 },
 "nbformat": 4,
 "nbformat_minor": 4
}
