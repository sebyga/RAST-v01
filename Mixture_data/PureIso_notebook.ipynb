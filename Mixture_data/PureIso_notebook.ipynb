{
 "cells": [
  {
   "cell_type": "markdown",
   "source": [
    "# Import packages"
   ],
   "metadata": {}
  },
  {
   "cell_type": "code",
   "execution_count": 1,
   "source": [
    "import pandas as pd\r\n",
    "import numpy as np\r\n",
    "import os\r\n",
    "from scipy.optimize import minimize\r\n",
    "from scipy.optimize import shgo"
   ],
   "outputs": [],
   "metadata": {}
  },
  {
   "cell_type": "markdown",
   "source": [
    "# Different isotherm models"
   ],
   "metadata": {}
  },
  {
   "cell_type": "code",
   "execution_count": 3,
   "source": [
    "def Arrh(T, dH, T_ref):\r\n",
    "    exp_term = np.exp(np.abs(dH)/8.3145*(1/T-1/T_ref))\r\n",
    "    return exp_term\r\n",
    "    \r\n",
    "def Lang(par,P):\r\n",
    "    bP = par[1]*P\r\n",
    "    deno = 1+ bP\r\n",
    "    nume = par[0]*bP\r\n",
    "    q = nume/deno\r\n",
    "    return q\r\n",
    "\r\n",
    "def Quad(par,P):\r\n",
    "    bP = par[1]*P\r\n",
    "    dPP = par[2]*P\r\n",
    "    deno = 1+ bP + dPP\r\n",
    "    nume = par[0]*(2*bP + dPP)\r\n",
    "    q = nume/deno\r\n",
    "    return q\r\n",
    "\r\n",
    "def DSLa(par,P):\r\n",
    "    nume1 = par[0]*par[1]*P\r\n",
    "    deno1 = 1+par[1]*P\r\n",
    "    nume2 = par[2]*par[3]*P\r\n",
    "    deno2 = 1+par[3]*P\r\n",
    "    q = nume1/deno1 + nume2/deno2\r\n",
    "    return q    \r\n",
    "\r\n",
    "iso_fn_candi = [Lang,Quad, DSLa]\r\n",
    "iso_fn_candi_str = ['Lang','Quad', 'DSLa']\r\n",
    "iso_par_num = [2,3,4]"
   ],
   "outputs": [],
   "metadata": {}
  },
  {
   "cell_type": "markdown",
   "source": [
    "# Objective Functions"
   ],
   "metadata": {}
  },
  {
   "cell_type": "code",
   "execution_count": 4,
   "source": [
    "def iso2err(par,P,q,iso_fn):\r\n",
    "    par_arr = np.array(par)\r\n",
    "    is_nega = par_arr<0\r\n",
    "    penaltyy = np.sum(par_arr[is_nega]**2)*50\r\n",
    "    par_arr[is_nega] = 0\r\n",
    "    \r\n",
    "    diff = iso_fn(par_arr,np.array(P)) - np.array(q)\r\n",
    "    err_sum = np.sum(diff**2)\r\n",
    "    return err_sum + penaltyy\r\n",
    "# Test the iso2err\r\n",
    "p_test = np.linspace(0,50, 51)\r\n",
    "q_test = 3*0.1*p_test/(1+0.1*p_test)\r\n",
    "\r\n",
    "err_test1 = iso2err([3,0.1], p_test,q_test, Lang)\r\n",
    "err_test2 = iso2err([3,0.1,0.1], p_test,q_test, Quad)\r\n",
    "err_test3 = iso2err([3,0.1,0.1,0.001], p_test,q_test, DSLa)\r\n",
    "\r\n",
    "print(err_test1)\r\n",
    "print(err_test2)\r\n",
    "print(err_test3)"
   ],
   "outputs": [
    {
     "output_type": "stream",
     "name": "stdout",
     "text": [
      "4.388038785291878e-30\n",
      "116.55303488599569\n",
      "0.00039860265674079767\n"
     ]
    }
   ],
   "metadata": {}
  },
  {
   "cell_type": "markdown",
   "source": [
    "# Fitting function"
   ],
   "metadata": {}
  },
  {
   "cell_type": "code",
   "execution_count": 11,
   "source": [
    "method_list = ['Nelder-mead','Powell','COBYLA','shgo']\r\n",
    "def find_par(isofn, n_par, P,q, methods):\r\n",
    "    p_arr = np.array(P)\r\n",
    "    q_arr = np.array(q)\r\n",
    "    obj_fn = lambda par: iso2err(par,p_arr,q_arr,isofn)\r\n",
    "    optres_fun = []\r\n",
    "    optres_x = []\r\n",
    "    for me in methods: \r\n",
    "        if me =='shgo':\r\n",
    "            bounds = np.zeros([n_par,2])\r\n",
    "            bounds[:,1] = 5\r\n",
    "            optres_tmp = shgo(obj_fn,bounds,)\r\n",
    "        else:\r\n",
    "            x0 = 2*np.ones(n_par)  # INITIAL GUESS !!!\r\n",
    "            x0[0] = q[-1]\r\n",
    "            optres_tmp = minimize(obj_fn,x0,method = me)\r\n",
    "        optres_fun.append(optres_tmp.fun)\r\n",
    "        optres_x.append(optres_tmp.x)\r\n",
    "    bestm = np.argmin(optres_fun)\r\n",
    "    par_sol = optres_x[bestm]\r\n",
    "    fn_sol = optres_fun[bestm]\r\n",
    "    return par_sol, fn_sol, optres_x, optres_fun\r\n",
    "\r\n",
    "parsol_test, fnsol_test,_,_ = find_par(iso_fn_candi[0],iso_par_num[0],p_test,q_test, method_list)\r\n",
    "#print(np.array(other_res).shape)\r\n",
    "#print(other_res)\r\n",
    "#print(optres_test[0])\r\n",
    "#print(optres_test[1])\r\n",
    "#print(np.argmin(optres_test[0]))"
   ],
   "outputs": [],
   "metadata": {}
  },
  {
   "cell_type": "code",
   "execution_count": 21,
   "source": [
    "def best_isomodel(P,q):\r\n",
    "    optfn_list = []\r\n",
    "    optx_list = []\r\n",
    "    for n_par,iso_fn in zip(iso_par_num, iso_fn_candi):\r\n",
    "        parsol_tmp, fnsol_tmp, _,_ = find_par(iso_fn, n_par,P,q,method_list)\r\n",
    "        optx_list.append(parsol_tmp)\r\n",
    "        optfn_list.append(fnsol_tmp)\r\n",
    "        if fnsol_tmp <= 4E-4:\r\n",
    "            break\r\n",
    "    print(optfn_list)\r\n",
    "    argMIN = np.argmin(np.array(optfn_list))\r\n",
    "    x_best = np.array(optx_list)[argMIN]\r\n",
    "    iso_best = lambda pp: iso_fn_candi[argMIN](x_best, pp)\r\n",
    "    str_best = iso_fn_candi_str[argMIN]\r\n",
    "    fnval_best = np.array(optfn_list)[argMIN]\r\n",
    "    return iso_best, x_best, str_best, fnval_best\r\n",
    "\r\n",
    "isob_test, xb_test, strb_test, fvalb_test =best_isomodel(p_test,q_test)\r\n",
    "print(isob_test)\r\n",
    "print(xb_test)\r\n",
    "print(strb_test)"
   ],
   "outputs": [
    {
     "output_type": "stream",
     "name": "stdout",
     "text": [
      "[1.1469342501500302e-23]\n",
      "<function best_isomodel.<locals>.<lambda> at 0x00000227A8910820>\n",
      "[3.  0.1]\n",
      "Lang\n"
     ]
    }
   ],
   "metadata": {}
  },
  {
   "cell_type": "code",
   "execution_count": null,
   "source": [],
   "outputs": [],
   "metadata": {}
  }
 ],
 "metadata": {
  "kernelspec": {
   "display_name": "Python 3",
   "language": "python",
   "name": "python3"
  },
  "language_info": {
   "codemirror_mode": {
    "name": "ipython",
    "version": 3
   },
   "file_extension": ".py",
   "mimetype": "text/x-python",
   "name": "python",
   "nbconvert_exporter": "python",
   "pygments_lexer": "ipython3",
   "version": "3.8.3"
  },
  "toc": {
   "base_numbering": 1,
   "nav_menu": {},
   "number_sections": true,
   "sideBar": true,
   "skip_h1_title": false,
   "title_cell": "Table of Contents",
   "title_sidebar": "Contents",
   "toc_cell": false,
   "toc_position": {},
   "toc_section_display": true,
   "toc_window_display": false
  },
  "varInspector": {
   "cols": {
    "lenName": 16,
    "lenType": 16,
    "lenVar": 40
   },
   "kernels_config": {
    "python": {
     "delete_cmd_postfix": "",
     "delete_cmd_prefix": "del ",
     "library": "var_list.py",
     "varRefreshCmd": "print(var_dic_list())"
    },
    "r": {
     "delete_cmd_postfix": ") ",
     "delete_cmd_prefix": "rm(",
     "library": "var_list.r",
     "varRefreshCmd": "cat(var_dic_list()) "
    }
   },
   "types_to_exclude": [
    "module",
    "function",
    "builtin_function_or_method",
    "instance",
    "_Feature"
   ],
   "window_display": false
  }
 },
 "nbformat": 4,
 "nbformat_minor": 4
}