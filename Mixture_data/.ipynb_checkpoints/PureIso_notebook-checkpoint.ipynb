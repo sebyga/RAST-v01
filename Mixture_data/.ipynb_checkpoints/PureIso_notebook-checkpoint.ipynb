{
 "cells": [
  {
   "cell_type": "markdown",
   "metadata": {},
   "source": [
    "# Import packages"
   ]
  },
  {
   "cell_type": "code",
   "execution_count": 4,
   "metadata": {},
   "outputs": [],
   "source": [
    "import pandas as pd\n",
    "import numpy as np\n",
    "import os\n",
    "from scipy.optimize import minimize\n",
    "from scipy.optimize import shgo"
   ]
  },
  {
   "cell_type": "markdown",
   "metadata": {},
   "source": [
    "# Different isotherm models"
   ]
  },
  {
   "cell_type": "code",
   "execution_count": 65,
   "metadata": {},
   "outputs": [],
   "source": [
    "def Arrh(T, dH, T_ref):\n",
    "    exp_term = np.exp(np.abs(dH)/8.3145*(1/T-1/T_ref))\n",
    "    return exp_term\n",
    "    \n",
    "def Lang(par,P):\n",
    "    bP = par[1]*P\n",
    "    deno = 1+ bP\n",
    "    nume = par[0]*bP\n",
    "    q = nume/deno\n",
    "    return q\n",
    "\n",
    "def Quad(par,P):\n",
    "    bP = par[1]*P\n",
    "    dPP = par[2]*P\n",
    "    deno = 1+ bP + dPP\n",
    "    nume = par[0]*(2*bP + dPP)\n",
    "    q = nume/deno\n",
    "    return q\n",
    "\n",
    "def DSLa(par,P):\n",
    "    nume1 = par[0]*par[1]*P\n",
    "    deno1 = 1+par[1]*P\n",
    "    nume2 = par[2]*par[3]*P\n",
    "    deno2 = 1+par[3]*P\n",
    "    q = nume1/deno1 + nume2/deno2\n",
    "    return q    \n",
    "\n",
    "iso_fn_candi = [Lang,Quad, DSLa]\n",
    "iso_fn_candi_str = ['Lang','Quad', 'DSLa']\n",
    "iso_par_num = [2,3,4]"
   ]
  },
  {
   "cell_type": "markdown",
   "metadata": {},
   "source": [
    "# Objective Functions"
   ]
  },
  {
   "cell_type": "code",
   "execution_count": 29,
   "metadata": {},
   "outputs": [
    {
     "name": "stdout",
     "output_type": "stream",
     "text": [
      "4.388038785291878e-30\n",
      "116.55303488599569\n",
      "0.00039860265674079767\n"
     ]
    }
   ],
   "source": [
    "def iso2err(par,P,q,iso_fn):\n",
    "    par_arr = np.array(par)\n",
    "    is_nega = par_arr<0\n",
    "    penaltyy = np.sum(par_arr[is_nega]**2)*50\n",
    "    par_arr[is_nega] = 0\n",
    "    \n",
    "    diff = iso_fn(par_arr,np.array(P)) - np.array(q)\n",
    "    err_sum = np.sum(diff**2)\n",
    "    return err_sum + penaltyy\n",
    "# Test the iso2err\n",
    "p_test = np.linspace(0,50, 51)\n",
    "q_test = 3*0.1*p_test/(1+0.1*p_test)\n",
    "\n",
    "err_test1 = iso2err([3,0.1], p_test,q_test, Lang)\n",
    "err_test2 = iso2err([3,0.1,0.1], p_test,q_test, Quad)\n",
    "err_test3 = iso2err([3,0.1,0.1,0.001], p_test,q_test, DSLa)\n",
    "\n",
    "print(err_test1)\n",
    "print(err_test2)\n",
    "print(err_test3)"
   ]
  },
  {
   "cell_type": "markdown",
   "metadata": {},
   "source": [
    "# Fitting function"
   ]
  },
  {
   "cell_type": "code",
   "execution_count": 64,
   "metadata": {},
   "outputs": [
    {
     "name": "stdout",
     "output_type": "stream",
     "text": [
      "1.050171080075472e-29\n"
     ]
    }
   ],
   "source": [
    "method_list = ['Nelder-mead','Powell','COBYLA','shgo']\n",
    "def find_par(isofn, n_par, P,q, methods):\n",
    "    p_arr = np.array(P)\n",
    "    q_arr = np.array(q)\n",
    "    obj_fn = lambda par: iso2err(par,p_arr,q_arr,isofn)\n",
    "    optres_fun = []\n",
    "    optres_x = []\n",
    "    for me in methods: \n",
    "        if me =='shgo':\n",
    "            bounds = np.zeros([n_par,2])\n",
    "            bounds[:,1] = 5\n",
    "            optres_tmp = shgo(obj_fn,bounds,)\n",
    "        else:\n",
    "            x0 = np.ones(n_par)  # INITIAL GUESS !!!\n",
    "            x0[0] = q[-1]\n",
    "            optres_tmp = minimize(obj_fn,x0,method = me)\n",
    "        optres_fun.append(optres_tmp.fun)\n",
    "        optres_x.append(optres_tmp.x)\n",
    "    bestm = np.argmin(optres_fun)\n",
    "    par_sol = optres_x[bestm]\n",
    "    fn_sol = optres_fun[bestm]\n",
    "    return par_sol, fn_sol, optres_x, optres_fun\n",
    "\n",
    "parsol_test, fnsol_test,_,_ = find_par(iso_fn_candi[0],iso_par_num[0],p_test,q_test, method_list)\n",
    "#print(np.array(other_res).shape)\n",
    "#print(other_res)\n",
    "#print(optres_test[0])\n",
    "#print(optres_test[1])\n",
    "#print(np.argmin(optres_test[0]))"
   ]
  },
  {
   "cell_type": "code",
   "execution_count": 69,
   "metadata": {},
   "outputs": [
    {
     "name": "stdout",
     "output_type": "stream",
     "text": [
      "[1.050171080075472e-29, 2.7764206078286392e-30, 1.916698546281557e-20]\n",
      "<function Quad at 0x0000028F912CEEE0>\n",
      "[1.62890707 0.08417257 0.01582743]\n",
      "Quad\n"
     ]
    }
   ],
   "source": [
    "def best_isomodel(P,q):\n",
    "    optfn_list = []\n",
    "    optx_list = []\n",
    "    for n_par,iso_fn in zip(iso_par_num, iso_fn_candi):\n",
    "        parsol_tmp, fnsol_tmp, _,_ = find_par(iso_fn, n_par,P,q,method_list)\n",
    "        optx_list.append(parsol_tmp)\n",
    "        optfn_list.append(fnsol_tmp)\n",
    "    print(optfn_list)\n",
    "    argMIN = np.argmin(np.array(optfn_list))\n",
    "    iso_best = iso_fn_candi[argMIN]\n",
    "    x_best = np.array(optx_list)[argMIN]\n",
    "    str_best = iso_fn_candi_str[argMIN]\n",
    "    fnval_best = np.array(optfn_list)[argMIN]\n",
    "    return iso_best, x_best, str_best, fnval_best\n",
    "\n",
    "isob_test, xb_test, strb_test, fvalb_test =best_isomodel(p_test,q_test)\n",
    "print(isob_test)\n",
    "print(xb_test)\n",
    "print(strb_test)        "
   ]
  },
  {
   "cell_type": "code",
   "execution_count": null,
   "metadata": {},
   "outputs": [],
   "source": []
  }
 ],
 "metadata": {
  "kernelspec": {
   "display_name": "Python 3",
   "language": "python",
   "name": "python3"
  },
  "language_info": {
   "codemirror_mode": {
    "name": "ipython",
    "version": 3
   },
   "file_extension": ".py",
   "mimetype": "text/x-python",
   "name": "python",
   "nbconvert_exporter": "python",
   "pygments_lexer": "ipython3",
   "version": "3.8.3"
  },
  "toc": {
   "base_numbering": 1,
   "nav_menu": {},
   "number_sections": true,
   "sideBar": true,
   "skip_h1_title": false,
   "title_cell": "Table of Contents",
   "title_sidebar": "Contents",
   "toc_cell": false,
   "toc_position": {},
   "toc_section_display": true,
   "toc_window_display": false
  },
  "varInspector": {
   "cols": {
    "lenName": 16,
    "lenType": 16,
    "lenVar": 40
   },
   "kernels_config": {
    "python": {
     "delete_cmd_postfix": "",
     "delete_cmd_prefix": "del ",
     "library": "var_list.py",
     "varRefreshCmd": "print(var_dic_list())"
    },
    "r": {
     "delete_cmd_postfix": ") ",
     "delete_cmd_prefix": "rm(",
     "library": "var_list.r",
     "varRefreshCmd": "cat(var_dic_list()) "
    }
   },
   "types_to_exclude": [
    "module",
    "function",
    "builtin_function_or_method",
    "instance",
    "_Feature"
   ],
   "window_display": false
  }
 },
 "nbformat": 4,
 "nbformat_minor": 4
}
