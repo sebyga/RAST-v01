{
 "cells": [
  {
   "cell_type": "markdown",
   "metadata": {},
   "source": [
    "# Import packages"
   ]
  },
  {
   "cell_type": "code",
   "execution_count": 1,
   "metadata": {},
   "outputs": [],
   "source": [
    "import numpy as np\n",
    "import pandas as pd\n",
    "import os"
   ]
  },
  {
   "cell_type": "markdown",
   "metadata": {},
   "source": [
    "# Current pathway and target pathways"
   ]
  },
  {
   "cell_type": "markdown",
   "metadata": {},
   "source": [
    "## Current pathway"
   ]
  },
  {
   "cell_type": "code",
   "execution_count": 4,
   "metadata": {},
   "outputs": [
    {
     "name": "stdout",
     "output_type": "stream",
     "text": [
      "C:\\Users\\SebyG\\Documents\\GitHub\\RAST-v01\\Mixture_data\n"
     ]
    }
   ],
   "source": [
    "basepath = os.getcwd()\n",
    "print(basepath)"
   ]
  },
  {
   "cell_type": "markdown",
   "metadata": {},
   "source": [
    "## Directory list"
   ]
  },
  {
   "cell_type": "code",
   "execution_count": 12,
   "metadata": {},
   "outputs": [],
   "source": [
    "os.chdir(basepath)\n",
    "Folder_tmp = os.listdir()\n",
    "Folder_list = []\n",
    "for F in Folder_tmp:\n",
    "    if F[:3] == 'CO2' and F[-4] != '.':\n",
    "        Folder_list.append(F)"
   ]
  },
  {
   "cell_type": "code",
   "execution_count": 29,
   "metadata": {},
   "outputs": [
    {
     "name": "stdout",
     "output_type": "stream",
     "text": [
      "369\n"
     ]
    }
   ],
   "source": [
    "os.chdir(basepath)\n",
    "os.chdir(Folder_list[0] + '\\CH4')\n",
    "f_list_tmp = os.listdir()\n",
    "print(len(f_list_tmp))\n",
    "os.chdir(basepath)"
   ]
  },
  {
   "cell_type": "code",
   "execution_count": 36,
   "metadata": {},
   "outputs": [],
   "source": [
    "f_list = []\n",
    "for f in f_list_tmp:\n",
    "    f_sp = f.split('_')[-1]\n",
    "    f_re = f_sp.split('.')[0]\n",
    "    #print(f_re)\n",
    "    f_list.append(f_re)\n",
    "di = {'adsorbent':f_list}\n",
    "df = pd.DataFrame(di)\n",
    "os.chdir(basepath)\n",
    "df.to_csv('ad_list.csv',index = False)"
   ]
  },
  {
   "cell_type": "markdown",
   "metadata": {},
   "source": [
    "# Put all together"
   ]
  },
  {
   "cell_type": "code",
   "execution_count": 46,
   "metadata": {},
   "outputs": [
    {
     "name": "stdout",
     "output_type": "stream",
     "text": [
      "[Empty DataFrame\n",
      "Columns: []\n",
      "Index: [], Empty DataFrame\n",
      "Columns: []\n",
      "Index: [], Empty DataFrame\n",
      "Columns: []\n",
      "Index: [], Empty DataFrame\n",
      "Columns: []\n",
      "Index: []]\n",
      "[1.000000e+01 2.000000e+01 4.000000e+01 6.000000e+01 8.000000e+01\n",
      " 1.000000e+02 2.000000e+02 4.000000e+02 6.000000e+02 8.000000e+02\n",
      " 1.000000e+03 2.000000e+03 4.000000e+03 6.000000e+03 8.000000e+03\n",
      " 1.000000e+04 5.000000e+04 1.000000e+05 5.000000e+05 1.000000e+06\n",
      " 3.000000e+06 5.000000e+06 5.000001e+06]\n",
      "[0.00000000e+00 0.00000000e+00 0.00000000e+00 0.00000000e+00\n",
      " 5.77890000e-06 5.77890000e-06 0.00000000e+00 5.77890000e-06\n",
      " 5.77890000e-06 5.77890000e-06 2.31155000e-05 5.77887000e-05\n",
      " 9.82408000e-05 2.08039300e-04 2.71606900e-04 3.46732200e-04\n",
      " 1.68165100e-03 3.61179350e-03 2.02664956e-02 3.03621807e-02\n",
      " 9.19013627e-02 1.44691336e-01 1.44691336e-01]\n"
     ]
    }
   ],
   "source": [
    "os.chdir(basepath)\n",
    "xCO2 = [0.1, 0.2,0.75, 0.90]\n",
    "data_all= []\n",
    "#for ii in range(len(xCO2)):\n",
    "#    data_all.append(pd.DataFrame({}))\n",
    "print(data_all)\n",
    "pre_txt ='output_mol_kg_'\n",
    "post_txt = '.txt'\n",
    "gg = False\n",
    "for FF in Folder_list[0:1]:\n",
    "    os.chdir(basepath)\n",
    "    os.chdir(FF + '\\CO2')\n",
    "    \n",
    "    for f in f_list[0:1]:\n",
    "        f_nam = pre_txt + f + post_txt + '.CO2.txt'\n",
    "        read_tmp = np.loadtxt(f_nam)\n",
    "        print(read_tmp[:,0])\n",
    "        if gg = False:\n",
    "            df\n",
    "            data_all.append()\n",
    "        \n",
    "            \n",
    "        print(read_tmp[:,1])\n"
   ]
  },
  {
   "cell_type": "code",
   "execution_count": null,
   "metadata": {},
   "outputs": [],
   "source": []
  }
 ],
 "metadata": {
  "kernelspec": {
   "display_name": "Python 3",
   "language": "python",
   "name": "python3"
  },
  "language_info": {
   "codemirror_mode": {
    "name": "ipython",
    "version": 3
   },
   "file_extension": ".py",
   "mimetype": "text/x-python",
   "name": "python",
   "nbconvert_exporter": "python",
   "pygments_lexer": "ipython3",
   "version": "3.8.3"
  },
  "toc": {
   "base_numbering": 1,
   "nav_menu": {},
   "number_sections": true,
   "sideBar": true,
   "skip_h1_title": false,
   "title_cell": "Table of Contents",
   "title_sidebar": "Contents",
   "toc_cell": false,
   "toc_position": {},
   "toc_section_display": true,
   "toc_window_display": false
  },
  "varInspector": {
   "cols": {
    "lenName": 16,
    "lenType": 16,
    "lenVar": 40
   },
   "kernels_config": {
    "python": {
     "delete_cmd_postfix": "",
     "delete_cmd_prefix": "del ",
     "library": "var_list.py",
     "varRefreshCmd": "print(var_dic_list())"
    },
    "r": {
     "delete_cmd_postfix": ") ",
     "delete_cmd_prefix": "rm(",
     "library": "var_list.r",
     "varRefreshCmd": "cat(var_dic_list()) "
    }
   },
   "types_to_exclude": [
    "module",
    "function",
    "builtin_function_or_method",
    "instance",
    "_Feature"
   ],
   "window_display": false
  }
 },
 "nbformat": 4,
 "nbformat_minor": 4
}
