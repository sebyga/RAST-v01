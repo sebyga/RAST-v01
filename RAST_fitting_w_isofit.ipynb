{
 "cells": [
  {
   "cell_type": "markdown",
   "source": [
    "# Import packages"
   ],
   "metadata": {}
  },
  {
   "cell_type": "code",
   "execution_count": 1,
   "source": [
    "# Numericas\r\n",
    "import numpy as np\r\n",
    "import pandas as pd\r\n",
    "\r\n",
    "# Graph\r\n",
    "import matplotlib.pyplot as plt\r\n",
    "\r\n",
    "# Beeping\r\n",
    "import time\r\n",
    "import winsound as winsd\r\n",
    "\r\n",
    "#file systme\r\n",
    "import os\r\n",
    "basepath = os.getcwd()\r\n",
    "import pickle\r\n",
    "\r\n",
    "# isofit\r\n",
    "import isofit "
   ],
   "outputs": [],
   "metadata": {}
  },
  {
   "cell_type": "markdown",
   "source": [
    "# Finishingbeep"
   ],
   "metadata": {}
  },
  {
   "cell_type": "code",
   "execution_count": 2,
   "source": [
    "def finishbeep(n):\r\n",
    "    for ii in range(n):\r\n",
    "        winsd.Beep(800,300)\r\n",
    "        winsd.Beep(1600,200)\r\n",
    "        time.sleep(0.8)\r\n",
    "# Test        \r\n",
    "finishbeep(3)"
   ],
   "outputs": [],
   "metadata": {}
  },
  {
   "cell_type": "markdown",
   "source": [
    "# Import files"
   ],
   "metadata": {}
  },
  {
   "cell_type": "code",
   "execution_count": 3,
   "source": [
    "os.chdir(basepath)\r\n",
    "os.chdir('Mixture_data')\r\n",
    "#print(os.listdir())\r\n",
    "# CH4 parameters\r\n",
    "f_tmp1 = open('iso_ch4.bin','rb')\r\n",
    "pic_ch4 = pickle.load(f_tmp1)\r\n",
    "print(len(pic_ch4))\r\n",
    "f_tmp1.close()\r\n",
    "\r\n",
    "# CO2 parameters\r\n",
    "f_tmp2 = open('iso_co2.bin','rb')\r\n",
    "pic_co2 = pickle.load(f_tmp2)\r\n",
    "print(len(pic_co2))\r\n",
    "f_tmp2.close()\r\n",
    "\r\n",
    "os.chdir(basepath)\r\n"
   ],
   "outputs": [
    {
     "output_type": "stream",
     "name": "stdout",
     "text": [
      "369\n",
      "369\n"
     ]
    }
   ],
   "metadata": {}
  },
  {
   "cell_type": "markdown",
   "source": [
    "# Isotherm function dictionary"
   ],
   "metadata": {}
  },
  {
   "cell_type": "code",
   "execution_count": 4,
   "source": [
    "di_iso = {}\r\n",
    "iso_fns = isofit.iso_fn_candi\r\n",
    "iso_fn_strs = isofit.iso_fn_candi_str\r\n",
    "for ii in range(len(iso_fns)):\r\n",
    "    di_iso[ii+2] = iso_fns[ii]\r\n",
    "print(di_iso)\r\n",
    "print(iso_fn_strs)"
   ],
   "outputs": [
    {
     "output_type": "stream",
     "name": "stdout",
     "text": [
      "{2: <function Lang at 0x00000200ADAEDD30>, 3: <function Quad at 0x00000200AE495550>, 4: <function DSLa at 0x00000200AE4955E0>}\n",
      "['Lang', 'Quad', 'DSLa']\n"
     ]
    }
   ],
   "metadata": {}
  },
  {
   "cell_type": "markdown",
   "source": [
    "# Function from parameter to a function"
   ],
   "metadata": {}
  },
  {
   "cell_type": "code",
   "execution_count": 9,
   "source": [
    "def par2iso(par):\r\n",
    "    n_par = len(par)\r\n",
    "    iso_parP = di_iso[n_par]\r\n",
    "    iso_model = lambda P : iso_parP(par,P);\r\n",
    "    return iso_model\r\n",
    "# test\r\n",
    "isomodel_test = par2iso(pic_co2[0])\r\n",
    "print(isomodel_test(np.array([1,2,3])))"
   ],
   "outputs": [
    {
     "output_type": "stream",
     "name": "stdout",
     "text": [
      "[0.14597287 0.28221141 0.4096579 ]\n"
     ]
    }
   ],
   "metadata": {}
  },
  {
   "cell_type": "code",
   "execution_count": null,
   "source": [],
   "outputs": [],
   "metadata": {}
  },
  {
   "cell_type": "code",
   "execution_count": null,
   "source": [],
   "outputs": [],
   "metadata": {}
  }
 ],
 "metadata": {
  "orig_nbformat": 4,
  "language_info": {
   "name": "python",
   "version": "3.8.3",
   "mimetype": "text/x-python",
   "codemirror_mode": {
    "name": "ipython",
    "version": 3
   },
   "pygments_lexer": "ipython3",
   "nbconvert_exporter": "python",
   "file_extension": ".py"
  },
  "kernelspec": {
   "name": "python3",
   "display_name": "Python 3.8.3 64-bit ('base': conda)"
  },
  "interpreter": {
   "hash": "b3ba2566441a7c06988d0923437866b63cedc61552a5af99d1f4fb67d367b25f"
  }
 },
 "nbformat": 4,
 "nbformat_minor": 2
}